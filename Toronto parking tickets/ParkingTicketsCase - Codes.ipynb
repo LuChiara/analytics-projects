{
 "cells": [
  {
   "cell_type": "code",
   "execution_count": 57,
   "metadata": {},
   "outputs": [],
   "source": [
    "import pandas as pd, numpy as np, seaborn as sns,matplotlib.pyplot as plt\n",
    "import warnings \n",
    "warnings.filterwarnings('ignore')\n",
    "\n",
    "file_paths = [\n",
    "    \"/Users/chiaralu/Desktop/施工/Interviews/Technical/HOOPP/Data/parking-tickets-2017/Parking_Tags_Data_2017_3.csv\",\n",
    "    \"/Users/chiaralu/Desktop/施工/Interviews/Technical/HOOPP/Data/parking-tickets-2017/Parking_Tags_Data_2017_2.csv\",\n",
    "    \"/Users/chiaralu/Desktop/施工/Interviews/Technical/HOOPP/Data/parking-tickets-2017/Parking_Tags_Data_2017_1.csv\",\n",
    "    \"/Users/chiaralu/Desktop/施工/Interviews/Technical/HOOPP/Data/parking-tickets-2018/Parking_Tags_Data_2018_3.csv\",\n",
    "    \"/Users/chiaralu/Desktop/施工/Interviews/Technical/HOOPP/Data/parking-tickets-2018/Parking_Tags_Data_2018_2.csv\",\n",
    "    \"/Users/chiaralu/Desktop/施工/Interviews/Technical/HOOPP/Data/parking-tickets-2018/Parking_Tags_Data_2018_1.csv\",\n",
    "    \"/Users/chiaralu/Desktop/施工/Interviews/Technical/HOOPP/Data/parking-tickets-2019/Parking_Tags_Data_2019.008.csv\",\n",
    "    \"/Users/chiaralu/Desktop/施工/Interviews/Technical/HOOPP/Data/parking-tickets-2019/Parking_Tags_Data_2019.007.csv\",\n",
    "    \"/Users/chiaralu/Desktop/施工/Interviews/Technical/HOOPP/Data/parking-tickets-2019/Parking_Tags_Data_2019.006.csv\",\n",
    "    \"/Users/chiaralu/Desktop/施工/Interviews/Technical/HOOPP/Data/parking-tickets-2019/Parking_Tags_Data_2019.005.csv\",\n",
    "    \"/Users/chiaralu/Desktop/施工/Interviews/Technical/HOOPP/Data/parking-tickets-2019/Parking_Tags_Data_2019.004.csv\",\n",
    "    \"/Users/chiaralu/Desktop/施工/Interviews/Technical/HOOPP/Data/parking-tickets-2019/Parking_Tags_Data_2019.003.csv\",\n",
    "    \"/Users/chiaralu/Desktop/施工/Interviews/Technical/HOOPP/Data/parking-tickets-2019/Parking_Tags_Data_2019.002.csv\",\n",
    "    \"/Users/chiaralu/Desktop/施工/Interviews/Technical/HOOPP/Data/parking-tickets-2019/Parking_Tags_Data_2019.001.csv\",\n",
    "    \"/Users/chiaralu/Desktop/施工/Interviews/Technical/HOOPP/Data/parking-tickets-2019/Parking_Tags_Data_2019.000.csv\",\n",
    "    \"/Users/chiaralu/Desktop/施工/Interviews/Technical/HOOPP/Data/parking-tickets-2020/Parking_Tags_Data_2020.005.csv\",\n",
    "    \"/Users/chiaralu/Desktop/施工/Interviews/Technical/HOOPP/Data/parking-tickets-2020/Parking_Tags_Data_2020.004.csv\",\n",
    "    \"/Users/chiaralu/Desktop/施工/Interviews/Technical/HOOPP/Data/parking-tickets-2020/Parking_Tags_Data_2020.003.csv\",\n",
    "    \"/Users/chiaralu/Desktop/施工/Interviews/Technical/HOOPP/Data/parking-tickets-2020/Parking_Tags_Data_2020.002.csv\",\n",
    "    \"/Users/chiaralu/Desktop/施工/Interviews/Technical/HOOPP/Data/parking-tickets-2020/Parking_Tags_Data_2020.001.csv\",\n",
    "    \"/Users/chiaralu/Desktop/施工/Interviews/Technical/HOOPP/Data/parking-tickets-2020/Parking_Tags_Data_2020.000.csv\"\n",
    "]\n",
    "\n",
    "\n",
    "# Initialize an empty DataFrame\n",
    "data = pd.DataFrame()\n",
    "\n",
    "# Read and append the data\n",
    "for file_path in file_paths:\n",
    "    df = pd.read_csv(file_path)\n",
    "    data = data.append(df, ignore_index=True)"
   ]
  },
  {
   "cell_type": "markdown",
   "metadata": {},
   "source": [
    "# Preprocessing"
   ]
  },
  {
   "cell_type": "code",
   "execution_count": 58,
   "metadata": {},
   "outputs": [
    {
     "name": "stdout",
     "output_type": "stream",
     "text": [
      "<class 'pandas.core.frame.DataFrame'>\n",
      "RangeIndex: 7806116 entries, 0 to 7806115\n",
      "Data columns (total 11 columns):\n",
      " #   Column                  Dtype  \n",
      "---  ------                  -----  \n",
      " 0   tag_number_masked       object \n",
      " 1   date_of_infraction      int64  \n",
      " 2   infraction_code         float64\n",
      " 3   infraction_description  object \n",
      " 4   set_fine_amount         int64  \n",
      " 5   time_of_infraction      float64\n",
      " 6   location1               object \n",
      " 7   location2               object \n",
      " 8   location3               object \n",
      " 9   location4               object \n",
      " 10  province                object \n",
      "dtypes: float64(2), int64(2), object(7)\n",
      "memory usage: 655.1+ MB\n"
     ]
    }
   ],
   "source": [
    "data.info()"
   ]
  },
  {
   "cell_type": "code",
   "execution_count": 59,
   "metadata": {},
   "outputs": [
    {
     "data": {
      "text/html": [
       "<div>\n",
       "<style scoped>\n",
       "    .dataframe tbody tr th:only-of-type {\n",
       "        vertical-align: middle;\n",
       "    }\n",
       "\n",
       "    .dataframe tbody tr th {\n",
       "        vertical-align: top;\n",
       "    }\n",
       "\n",
       "    .dataframe thead th {\n",
       "        text-align: right;\n",
       "    }\n",
       "</style>\n",
       "<table border=\"1\" class=\"dataframe\">\n",
       "  <thead>\n",
       "    <tr style=\"text-align: right;\">\n",
       "      <th></th>\n",
       "      <th>tag_number_masked</th>\n",
       "      <th>date_of_infraction</th>\n",
       "      <th>infraction_code</th>\n",
       "      <th>infraction_description</th>\n",
       "      <th>set_fine_amount</th>\n",
       "      <th>time_of_infraction</th>\n",
       "      <th>location1</th>\n",
       "      <th>location2</th>\n",
       "      <th>location3</th>\n",
       "      <th>location4</th>\n",
       "      <th>province</th>\n",
       "    </tr>\n",
       "  </thead>\n",
       "  <tbody>\n",
       "    <tr>\n",
       "      <th>0</th>\n",
       "      <td>***54540</td>\n",
       "      <td>20170904</td>\n",
       "      <td>29.0</td>\n",
       "      <td>PARK PROHIBITED TIME NO PERMIT</td>\n",
       "      <td>30</td>\n",
       "      <td>28.0</td>\n",
       "      <td>NR</td>\n",
       "      <td>49 CARROLL ST</td>\n",
       "      <td>NaN</td>\n",
       "      <td>NaN</td>\n",
       "      <td>ON</td>\n",
       "    </tr>\n",
       "    <tr>\n",
       "      <th>1</th>\n",
       "      <td>***05804</td>\n",
       "      <td>20170904</td>\n",
       "      <td>363.0</td>\n",
       "      <td>PARK ONSTRT ACCESSIBLE NO PRMT</td>\n",
       "      <td>450</td>\n",
       "      <td>29.0</td>\n",
       "      <td>W/S</td>\n",
       "      <td>ABELL ST</td>\n",
       "      <td>N/O</td>\n",
       "      <td>SUDBURY ST</td>\n",
       "      <td>ON</td>\n",
       "    </tr>\n",
       "    <tr>\n",
       "      <th>2</th>\n",
       "      <td>***09621</td>\n",
       "      <td>20170904</td>\n",
       "      <td>5.0</td>\n",
       "      <td>PARK-SIGNED HWY-PROHIBIT DY/TM</td>\n",
       "      <td>50</td>\n",
       "      <td>29.0</td>\n",
       "      <td>NR</td>\n",
       "      <td>5332 YONGE ST</td>\n",
       "      <td>NaN</td>\n",
       "      <td>NaN</td>\n",
       "      <td>ON</td>\n",
       "    </tr>\n",
       "    <tr>\n",
       "      <th>3</th>\n",
       "      <td>***23833</td>\n",
       "      <td>20170904</td>\n",
       "      <td>29.0</td>\n",
       "      <td>PARK PROHIBITED TIME NO PERMIT</td>\n",
       "      <td>30</td>\n",
       "      <td>29.0</td>\n",
       "      <td>OPP</td>\n",
       "      <td>34 BEACONSFIELD AVE</td>\n",
       "      <td>NaN</td>\n",
       "      <td>NaN</td>\n",
       "      <td>ON</td>\n",
       "    </tr>\n",
       "    <tr>\n",
       "      <th>4</th>\n",
       "      <td>***67830</td>\n",
       "      <td>20170904</td>\n",
       "      <td>29.0</td>\n",
       "      <td>PARK PROHIBITED TIME NO PERMIT</td>\n",
       "      <td>30</td>\n",
       "      <td>29.0</td>\n",
       "      <td>NR</td>\n",
       "      <td>19 MOUNTNOEL AVE</td>\n",
       "      <td>NaN</td>\n",
       "      <td>NaN</td>\n",
       "      <td>ON</td>\n",
       "    </tr>\n",
       "  </tbody>\n",
       "</table>\n",
       "</div>"
      ],
      "text/plain": [
       "  tag_number_masked  date_of_infraction  infraction_code  \\\n",
       "0          ***54540            20170904             29.0   \n",
       "1          ***05804            20170904            363.0   \n",
       "2          ***09621            20170904              5.0   \n",
       "3          ***23833            20170904             29.0   \n",
       "4          ***67830            20170904             29.0   \n",
       "\n",
       "           infraction_description  set_fine_amount  time_of_infraction  \\\n",
       "0  PARK PROHIBITED TIME NO PERMIT               30                28.0   \n",
       "1  PARK ONSTRT ACCESSIBLE NO PRMT              450                29.0   \n",
       "2  PARK-SIGNED HWY-PROHIBIT DY/TM               50                29.0   \n",
       "3  PARK PROHIBITED TIME NO PERMIT               30                29.0   \n",
       "4  PARK PROHIBITED TIME NO PERMIT               30                29.0   \n",
       "\n",
       "  location1            location2 location3   location4 province  \n",
       "0        NR        49 CARROLL ST       NaN         NaN       ON  \n",
       "1       W/S             ABELL ST       N/O  SUDBURY ST       ON  \n",
       "2        NR        5332 YONGE ST       NaN         NaN       ON  \n",
       "3       OPP  34 BEACONSFIELD AVE       NaN         NaN       ON  \n",
       "4        NR     19 MOUNTNOEL AVE       NaN         NaN       ON  "
      ]
     },
     "execution_count": 59,
     "metadata": {},
     "output_type": "execute_result"
    }
   ],
   "source": [
    "data.head()"
   ]
  },
  {
   "cell_type": "code",
   "execution_count": 60,
   "metadata": {},
   "outputs": [
    {
     "data": {
      "text/plain": [
       "0   2017-09-04\n",
       "1   2017-09-04\n",
       "2   2017-09-04\n",
       "3   2017-09-04\n",
       "4   2017-09-04\n",
       "Name: date_of_infraction, dtype: datetime64[ns]"
      ]
     },
     "execution_count": 60,
     "metadata": {},
     "output_type": "execute_result"
    }
   ],
   "source": [
    "# Clean dates\n",
    "data['date_of_infraction'] = pd.to_datetime(data['date_of_infraction'], format='%Y%m%d', errors='coerce')\n",
    "data['date_of_infraction'].head()"
   ]
  },
  {
   "cell_type": "code",
   "execution_count": 61,
   "metadata": {},
   "outputs": [],
   "source": [
    "# check for duplicates\n",
    "data.duplicated().sum()\n",
    "\n",
    "# There are 2 duplicates, we should drop them\n",
    "data.drop_duplicates(inplace=True)"
   ]
  },
  {
   "cell_type": "code",
   "execution_count": null,
   "metadata": {},
   "outputs": [],
   "source": [
    "# Drop columns that are not useful\n",
    "drop_colums = ['tag_number_masked', 'time_of_infraction', 'location1', 'location3', 'location4']\n",
    "data.drop(drop_colums, axis=1, inplace=True)"
   ]
  },
  {
   "cell_type": "code",
   "execution_count": 66,
   "metadata": {},
   "outputs": [
    {
     "name": "stdout",
     "output_type": "stream",
     "text": [
      "(7805338, 6)\n"
     ]
    },
    {
     "data": {
      "text/plain": [
       "date_of_infraction        0\n",
       "infraction_code           0\n",
       "infraction_description    0\n",
       "set_fine_amount           0\n",
       "location2                 0\n",
       "province                  0\n",
       "dtype: int64"
      ]
     },
     "execution_count": 66,
     "metadata": {},
     "output_type": "execute_result"
    }
   ],
   "source": [
    "# check for missing values\n",
    "data.isnull().sum()\n",
    "\n",
    "# Since only 0.1% of data have missing values, we can drop them\n",
    "data.dropna(inplace=True)\n",
    "print(data.shape)\n",
    "\n",
    "data.isnull().sum()\n"
   ]
  },
  {
   "cell_type": "code",
   "execution_count": 67,
   "metadata": {},
   "outputs": [
    {
     "data": {
      "text/plain": [
       "0           Carroll St\n",
       "1             Abell St\n",
       "2             Yonge St\n",
       "3     Beaconsfield Ave\n",
       "4        Mountnoel Ave\n",
       "Name: location, dtype: object"
      ]
     },
     "execution_count": 67,
     "metadata": {},
     "output_type": "execute_result"
    }
   ],
   "source": [
    "# Remove numbers in addresses and use Title case\n",
    "data['location'] = data['location2'].str.replace('\\d+', '')\n",
    "data['location'] = data['location'].str.title()\n",
    "data['location'].head()"
   ]
  },
  {
   "cell_type": "code",
   "execution_count": 68,
   "metadata": {},
   "outputs": [
    {
     "data": {
      "text/plain": [
       "0    Park Prohibited Time No Permit\n",
       "1    Park Onstrt Accessible No Prmt\n",
       "2    Park-Signed Hwy-Prohibit Dy/Tm\n",
       "3    Park Prohibited Time No Permit\n",
       "4    Park Prohibited Time No Permit\n",
       "Name: infraction_description, dtype: object"
      ]
     },
     "execution_count": 68,
     "metadata": {},
     "output_type": "execute_result"
    }
   ],
   "source": [
    "# Fix format for infraction descriptions\n",
    "data['infraction_description'] = data['infraction_description'].str.title()\n",
    "data['infraction_description'].head()"
   ]
  },
  {
   "cell_type": "code",
   "execution_count": 69,
   "metadata": {},
   "outputs": [
    {
     "data": {
      "text/plain": [
       "(7805338, 7)"
      ]
     },
     "execution_count": 69,
     "metadata": {},
     "output_type": "execute_result"
    }
   ],
   "source": [
    "# Count final number of rows\n",
    "data.shape\n",
    "\n",
    "#Initial data shape was (7806116, 11) "
   ]
  },
  {
   "cell_type": "code",
   "execution_count": 107,
   "metadata": {},
   "outputs": [],
   "source": [
    "# export to csv\n",
    "data.to_csv('parking_tickets.csv', index=False)\n"
   ]
  },
  {
   "cell_type": "markdown",
   "metadata": {},
   "source": [
    "# Exploratory Analysis"
   ]
  },
  {
   "cell_type": "code",
   "execution_count": 89,
   "metadata": {},
   "outputs": [
    {
     "name": "stdout",
     "output_type": "stream",
     "text": [
      "Average number of tickets per year:  1951334.5\n"
     ]
    },
    {
     "data": {
      "image/png": "[encoded data removed]",
      "text/plain": [
       "<Figure size 1000x600 with 1 Axes>"
      ]
     },
     "metadata": {},
     "output_type": "display_data"
    }
   ],
   "source": [
    "# Plot number of tickets by year\n",
    "data['year'] = data['date_of_infraction'].dt.year\n",
    "freq_y = data['year'].value_counts().sort_index()\n",
    "freq_y.plot(kind='bar', figsize=(10, 6), rot=0, color = 'orange')\n",
    "plt.ylabel('Number of tickets')\n",
    "\n",
    "#compute average number of tickets per year\n",
    "avg = data['year'].value_counts().mean()\n",
    "print('Average number of tickets per year: ', avg)\n"
   ]
  },
  {
   "cell_type": "code",
   "execution_count": 91,
   "metadata": {},
   "outputs": [
    {
     "data": {
      "text/plain": [
       "2017    2143917\n",
       "2018    2044113\n",
       "2019    2213764\n",
       "2020    1403544\n",
       "Name: year, dtype: int64"
      ]
     },
     "execution_count": 91,
     "metadata": {},
     "output_type": "execute_result"
    }
   ],
   "source": [
    "freq_y"
   ]
  },
  {
   "cell_type": "code",
   "execution_count": 92,
   "metadata": {},
   "outputs": [
    {
     "data": {
      "text/plain": [
       "Text(0.5, 0, 'Month')"
      ]
     },
     "execution_count": 92,
     "metadata": {},
     "output_type": "execute_result"
    },
    {
     "data": {
      "image/png": "[encoded data removed]",
      "text/plain": [
       "<Figure size 1000x600 with 1 Axes>"
      ]
     },
     "metadata": {},
     "output_type": "display_data"
    }
   ],
   "source": [
    "# Plot number of tickets by month\n",
    "\n",
    "data['month'] = data['date_of_infraction'].dt.month\n",
    "freq_m = data['month'].value_counts().sort_index()\n",
    "freq_m.plot(kind='bar', figsize=(10, 6), rot = 0, color = \"gold\")\n",
    "plt.ylabel('Number of tickets')\n",
    "plt.xlabel('Month')"
   ]
  },
  {
   "cell_type": "code",
   "execution_count": 93,
   "metadata": {},
   "outputs": [
    {
     "data": {
      "text/plain": [
       "1     697271\n",
       "2     624138\n",
       "3     699122\n",
       "4     549242\n",
       "5     589410\n",
       "6     585396\n",
       "7     647807\n",
       "8     685633\n",
       "9     708165\n",
       "10    742162\n",
       "11    684635\n",
       "12    592357\n",
       "Name: month, dtype: int64"
      ]
     },
     "execution_count": 93,
     "metadata": {},
     "output_type": "execute_result"
    }
   ],
   "source": [
    "freq_m"
   ]
  },
  {
   "cell_type": "markdown",
   "metadata": {},
   "source": [
    "# Revenue Analysis"
   ]
  },
  {
   "cell_type": "code",
   "execution_count": 106,
   "metadata": {},
   "outputs": [
    {
     "data": {
      "text/plain": [
       "Text(0.5, 0, 'Year')"
      ]
     },
     "execution_count": 106,
     "metadata": {},
     "output_type": "execute_result"
    },
    {
     "data": {
      "image/png": "[encoded data removed]",
      "text/plain": [
       "<Figure size 1000x600 with 1 Axes>"
      ]
     },
     "metadata": {},
     "output_type": "display_data"
    }
   ],
   "source": [
    "# Calculate revenue by year\n",
    "revenue = data.groupby('year')['set_fine_amount'].sum()\n",
    "revenue.plot(kind='bar', figsize=(10, 6), rot=0, color = 'orange')\n",
    "\n",
    "# Add a line for average revenue\n",
    "plt.axhline(y=revenue.mean(), color='b', linestyle='-')\n",
    "plt.ylabel('Revenue')\n",
    "plt.xlabel('Year')\n"
   ]
  },
  {
   "cell_type": "code",
   "execution_count": 104,
   "metadata": {},
   "outputs": [
    {
     "name": "stdout",
     "output_type": "stream",
     "text": [
      "year\n",
      "2017    106181250\n",
      "2018    100198095\n",
      "2019    108416600\n",
      "2020     70550280\n",
      "Name: set_fine_amount, dtype: int64\n",
      "Average revenue per year: $ 96336556.25\n"
     ]
    }
   ],
   "source": [
    "revenue.mean()\n",
    "print(revenue)\n",
    "print(\"Average revenue per year: $\", revenue.mean())"
   ]
  },
  {
   "cell_type": "markdown",
   "metadata": {},
   "source": [
    "## Total Fines Collected by Year"
   ]
  },
  {
   "cell_type": "code",
   "execution_count": 33,
   "metadata": {},
   "outputs": [
    {
     "name": "stdout",
     "output_type": "stream",
     "text": [
      "Total fines for 2017: $78125490\n",
      "Total fines for 2018: $72789775\n",
      "Total fines for 2019: $76536745\n",
      "Total fines for 2020: $48158205\n"
     ]
    },
    {
     "data": {
      "text/plain": [
       "Text(0.5, 0, 'Year')"
      ]
     },
     "execution_count": 33,
     "metadata": {},
     "output_type": "execute_result"
    },
    {
     "data": {
      "image/png": "[encoded data removed]",
      "text/plain": [
       "<Figure size 1000x600 with 1 Axes>"
      ]
     },
     "metadata": {},
     "output_type": "display_data"
    }
   ],
   "source": [
    "def calculate_sum_of_fines(data, year):\n",
    "    # Filter data for the specified year\n",
    "    year_data = data[data['year'] == year]\n",
    "    \n",
    "    # Sum fines for the specified year\n",
    "    fines_sum = year_data['set_fine_amount'].sum()\n",
    "    \n",
    "    print(f'Total fines for {year}: ${fines_sum}')\n",
    "\n",
    "for i in range(2017, 2021):\n",
    "    calculate_sum_of_fines(data, i)\n",
    "\n",
    "# plot fines by year in bar chart\n",
    "freq = data.groupby('year')['set_fine_amount'].sum()\n",
    "freq.plot(kind='bar', figsize=(10, 6), rot=0)\n",
    "plt.ylabel('Fines ($)')\n",
    "plt.xlabel('Year')\n",
    "\n"
   ]
  },
  {
   "cell_type": "markdown",
   "metadata": {},
   "source": [
    "## Total Fines by Province"
   ]
  },
  {
   "cell_type": "code",
   "execution_count": 41,
   "metadata": {},
   "outputs": [
    {
     "data": {
      "text/plain": [
       "ON    5044122\n",
       "QC      88027\n",
       "AB      25196\n",
       "NY      17536\n",
       "AZ      14123\n",
       "       ...   \n",
       "WY         29\n",
       "GO         16\n",
       "HI         14\n",
       "NL          3\n",
       "PR          3\n",
       "Name: province, Length: 69, dtype: int64"
      ]
     },
     "execution_count": 41,
     "metadata": {},
     "output_type": "execute_result"
    }
   ],
   "source": [
    "data['province'].value_counts()"
   ]
  },
  {
   "cell_type": "code",
   "execution_count": 42,
   "metadata": {},
   "outputs": [
    {
     "data": {
      "text/plain": [
       "Text(0.5, 1.0, 'Tickets by province')"
      ]
     },
     "execution_count": 42,
     "metadata": {},
     "output_type": "execute_result"
    },
    {
     "data": {
      "image/png": "[encoded data removed]",
      "text/plain": [
       "<Figure size 1000x600 with 1 Axes>"
      ]
     },
     "metadata": {},
     "output_type": "display_data"
    }
   ],
   "source": [
    "# Pie chart for tickets by province\n",
    "freq = data[data['province'] != 'ON']['province'].value_counts()\n",
    "\n",
    "#group those that are less than 2% into 'Other'\n",
    "freq['Other'] = freq[freq < 0.02 * freq.sum()].sum()\n",
    "freq = freq[freq > 0.02 * freq.sum()]\n",
    "    \n",
    "freq.plot(kind='pie', figsize=(10, 6), autopct='%1.1f%%', startangle=90)\n",
    "plt.axis('equal')\n",
    "plt.ylabel('')\n",
    "plt.title('Tickets by province')\n"
   ]
  }
 ],
 "metadata": {
  "kernelspec": {
   "display_name": "base",
   "language": "python",
   "name": "python3"
  },
  "language_info": {
   "codemirror_mode": {
    "name": "ipython",
    "version": 3
   },
   "file_extension": ".py",
   "mimetype": "text/x-python",
   "name": "python",
   "nbconvert_exporter": "python",
   "pygments_lexer": "ipython3",
   "version": "3.11.4"
  }
 },
 "nbformat": 4,
 "nbformat_minor": 2
}
