{
  "cells": [
    {
      "cell_type": "markdown",
      "metadata": {
        "id": "8gAgmTOZjqTt"
      },
      "source": [
        "# PennyBot for PennyDrops\n",
        "*Your Financial Literacy Companion*"
      ]
    },
    {
      "cell_type": "markdown",
      "source": [
        "*Developed by Farah Hoque, Chiara Lu, and David Gao.*"
      ],
      "metadata": {
        "id": "0Sjdiu0Y-Ltf"
      }
    },
    {
      "cell_type": "markdown",
      "metadata": {
        "id": "ULncXCxSq7Hy"
      },
      "source": [
        "PennyBot, developed for PennyDrops, empowers Canadian university students with financial literacy. By engaging users in interactive conversations, PennyBot aims to demystify financial concepts and instill practical money management skills.\n",
        "\n",
        "With a focus on investment decisions, PennyBot guides users through 4 scenarios, helping them comprehend risk tolerance, investment options, and potential outcomes. Through PennyBot, we aspire to equip students with the confidence and understanding needed to navigate the complex world of personal finance.\n",
        "\n",
        "This Jupyter Notebook is organized in foldable headings. The libraries and functions are run first. Then, the four scenarios are run. The function \"main()\" under \"SCENARIO 1 & 2\" will run all the scenarios like a real chatbot. A list of references is included at the end of this notebook."
      ]
    },
    {
      "cell_type": "markdown",
      "metadata": {
        "id": "ZlzoCejTcIEv"
      },
      "source": [
        "#Import libraries"
      ]
    },
    {
      "cell_type": "markdown",
      "metadata": {
        "id": "hN7p65n58Zdj"
      },
      "source": [
        "The provided code snippet initiates the use of essential libraries for data analysis and visualization.\n",
        "\n",
        "**1. Import pandas Library:**\n",
        "The \"pandas\" library is imported as \"pd\" to facilitate data manipulation and analysis.\n",
        "\n",
        "**2. Import Matplotlib and Numpy Libraries:**\n",
        "\n",
        "The \"matplotlib.pyplot\" library is imported as \"plt\" for data visualization.\n",
        "The \"numpy\" library is imported as \"np\" for numerical operations.\n",
        "\n",
        "**3. Import Modules for Enhanced Display:**\n",
        "\n",
        "The \"HTML\" and \"display\" modules are imported from \"IPython\" to optimize output readability.\n",
        "\n",
        "**4. Define CSS Styling Function:**\n",
        "\n",
        "A function is defined to set the CSS styling for output display, limiting each line to 80 characters for clarity.\n",
        "\n",
        "**5. Execution Hook Registration:**\n",
        "\n",
        "The function is registered as an execution hook using the \"pre_run_cell\" event, ensuring consistent styling during code execution."
      ]
    },
    {
      "cell_type": "code",
      "execution_count": null,
      "metadata": {
        "id": "ZGAQ2a3Ue789"
      },
      "outputs": [],
      "source": [
        "# Import pandas library\n",
        "import pandas as pd\n",
        "\n",
        "# Import matplotlib.pyplot as plt and numpy as np\n",
        "import matplotlib.pyplot as plt\n",
        "import numpy as np\n",
        "\n",
        "# Import UUID\n",
        "import uuid"
      ]
    },
    {
      "cell_type": "code",
      "execution_count": null,
      "metadata": {
        "id": "I7xwC7oiE1u8"
      },
      "outputs": [],
      "source": [
        "# Import HTML and display modules from IPython\n",
        "from IPython.display import HTML, display\n",
        "\n",
        "# Define a function that sets the CSS styling\n",
        "# In this way, the length of the outputs will be limited to 80 characters on each line\n",
        "def set_css():\n",
        "    display(HTML('''\n",
        "    <style>\n",
        "    pre {\n",
        "        white-space: pre-wrap;\n",
        "    }\n",
        "    </style>\n",
        "\n",
        "    '''))\n",
        "\n",
        "# Register the function as an execution hook\n",
        "get_ipython().events.register('pre_run_cell', set_css)\n"
      ]
    },
    {
      "cell_type": "markdown",
      "metadata": {
        "id": "ztHAP1YbWhbS"
      },
      "source": [
        "#Dataframe for risk evaluation questions\n"
      ]
    },
    {
      "cell_type": "markdown",
      "metadata": {
        "id": "T6iafciR-gWm"
      },
      "source": [
        "This section of the code sets up a structured DataFrame to facilitate the assessment of risk evaluation questions and their corresponding answer options. It is designed to aid decision-making and scoring based on individuals' risk-taking attitudes. The key components of this setup include:\n",
        "\n",
        "**1. Questions and Answer Options:**\n",
        "\n",
        "A comprehensive list of 13 risk evaluation questions is defined, each with multiple answer options. These questions address scenarios involving risk-taking, investment choices, and personal preferences.\n",
        "\n",
        "**2. Scoring Dictionary:**\n",
        "\n",
        "A scoring dictionary, denoted as 'scoring,' is established to assign numerical values to each answer option of the questions. This dictionary enables quantifying responses and evaluating individuals' risk profiles based on their selections."
      ]
    },
    {
      "cell_type": "code",
      "execution_count": null,
      "metadata": {
        "id": "QAYfEn8iV9KA"
      },
      "outputs": [],
      "source": [
        "# Questions and answer options\n",
        "questions = [\n",
        "    \"Q 1/13. In general, how would your best friend describe you as a risk taker?\",\n",
        "    \"Q 2/13. You are on a TV game show and can choose one of the following; which would you take?\",\n",
        "    \"Q 3/13. You have just finished saving for a 'once-in-a-lifetime' vacation.\\\n",
        "     \\nThree weeks before you plan to leave, you lose your job. You would:\",\n",
        "    \"Q 4/13. If you unexpectedly received $20,000 to invest, what would you do?\",\n",
        "    \"Q 5/13. In terms of experience, how comfortable are you investing in stocks or stock mutual funds?\",\n",
        "    \"Q 6/13. When you think of the word 'risk,' which of the following words comes to mind first?\",\n",
        "    \"Q 7/13. Some experts are predicting prices of assets such as gold, jewels,\\\n",
        "    \\ncollectibles, and real estate (hard assets) to increase in value;\\\\0\\\n",
        "    \\nbond prices may fall, however, experts tend to agree that government bonds\\\n",
        "    \\nare relatively safe. Most of your investment assets are now in high-interest government bonds. What would you do?\",\n",
        "    \"Q 8/13. Given the best and worst case returns of the four investment choices below,\\\n",
        "    \\n which would you prefer?\",\n",
        "    \"Q 9/13. In addition to whatever you own, you have been given $1,000.\\\n",
        "    \\nYou are now asked to choose between:\",\n",
        "    \"Q 10/13. In addition to whatever you own, you have been given $2,000.\\\n",
        "    \\nYou are now asked to choose between\",\n",
        "    \"Q 11/13. Suppose a relative left you an inheritance of $100,000, stipulating\\\n",
        "    \\nin the will that you invest ALL the money in ONE of the following choices.\\\n",
        "    \\nWhich one would you select?\",\n",
        "    \"Q 12/13. If you had to invest $20,000, which of the following investment\\\n",
        "    \\nchoices would you find most appealing?\",\n",
        "    \"Q 13/13. Your trusted friend and neighbor, an experienced geologist, is\\\n",
        "    \\nputting together a group of investors to fund an exploratory gold mining\\\n",
        "    \\nventure. The venture could pay back 50 to 100 times the investment if successful.\\\n",
        "    \\nIf the mine is a bust, the entire investment is worthless. Your friend estimates the chance of success is only 20%. If you had the money, how much would you invest?\"\n",
        "]\n",
        "\n",
        "answer_options = [\n",
        "    [\"a. A real gambler\", \"b. Willing to take risks after completing adequate research\", \"c. Cautious\", \"d. A real risk avoider\"],\n",
        "    [\"a. $1,000 in cash\", \"b. A 50% chance at winning $5,000\", \"c. A 25% chance at winning $10,000\", \"d. A 5% chance at winning $100,000\"],\n",
        "    [\"a. Cancel the vacation\", \"b. Take a much more modest vacation\", \"c. Go as scheduled, reasoning that you need the time to prepare for a job search\", \"d. Extend your vacation, because this might be your last chance to go first-class\"],\n",
        "    [\"a. Deposit it in a bank account, money market account, or insured CD\", \"b. Invest it in safe high-quality bonds or bond mutual funds\", \"c. Invest it in stocks or stock mutual funds\"],\n",
        "    [\"a. Not at all comfortable\", \"b. Somewhat comfortable\", \"c. Very Comfortable\"],\n",
        "    [\"a. Loss\", \"b. Uncertainty\", \"c. Opportunity\", \"d. Thrill\"],\n",
        "    [\"a. Hold the bonds\", \"b. Sell the bonds, put half the proceeds into money market accounts, and the other half into hard assets\", \"c. Sell the bonds and put the total proceeds into hard assets\", \"d. Sell the bonds, put all the money into hard assets, and borrow additional money to buy more\"],\n",
        "    [\"a. $200 gain best case; $0 gain/loss worst case\", \"b. $800 gain best case, $200 loss worst case\", \"c. $2,600 gain best case, $800 loss worst case\", \"d. $4,800 gain best case, $2,400 loss worst case\"],\n",
        "    [\"a. A sure gain of $500\", \"b. A 50% chance to gain $1,000 and a 50% chance to gain nothing.\"],\n",
        "    [\"a. A sure loss of $500\", \"b. A 50% chance to lose $1,000 and a 50% chance to lose nothing.\"],\n",
        "    [\"a. A savings account or money market mutual fund\", \"b. A mutual fund that owns stocks and bonds\", \"c. A portfolio of 15 common stocks\", \"d. Commodities like gold, silver, and oil\"],\n",
        "    [\"a. 60% in low-risk investments, 30% in medium-risk investments, 10% in high-risk investments\", \"b. 30% in low-risk investments, 40% in medium-risk investments, 30% in high-risk investments\", \"c. 10% in low-risk investments, 40% in medium-risk investments, 50% in high-risk investments\"],\n",
        "    [\"a. Nothing\", \"b. One month’s salary\", \"c. Three month’s salary\", \"d. Six month’s salary\"]\n",
        "]\n",
        "\n",
        "# Scoring dictionary\n",
        "scoring = {\n",
        "    '1': {'A': 4, 'B': 3, 'C': 2, 'D': 1},\n",
        "    '2': {'A': 1, 'B': 2, 'C': 3, 'D': 4},\n",
        "    '3': {'A': 1, 'B': 2, 'C': 3, 'D': 4},\n",
        "    '4': {'A': 1, 'B': 2, 'C': 3},\n",
        "    '5': {'A': 1, 'B': 2, 'C': 3},\n",
        "    '6': {'A': 1, 'B': 2, 'C': 3, 'D': 4},\n",
        "    '7': {'A': 1, 'B': 2, 'C': 3, 'D': 4},\n",
        "    '8': {'A': 1, 'B': 2, 'C': 3, 'D': 4},\n",
        "    '9': {'A': 1, 'B': 3},\n",
        "    '10': {'A': 1, 'B': 3},\n",
        "    '11': {'A': 1, 'B': 2, 'C': 3, 'D': 4},\n",
        "    '12': {'A': 1, 'B': 2, 'C': 3, 'D': 4},\n",
        "    '13': {'A': 1, 'B': 2, 'C': 3, 'D': 4}\n",
        "}"
      ]
    },
    {
      "cell_type": "markdown",
      "metadata": {
        "id": "1qmwx3sHXDJ1"
      },
      "source": [
        "# Dataframe for investment options and conditions"
      ]
    },
    {
      "cell_type": "markdown",
      "metadata": {
        "id": "c_nYPnk1_VJP"
      },
      "source": [
        "The following code segment outlines the creation of a structured DataFrame to encapsulate essential information about various investment options and their associated conditions. It aids in evaluating and comparing different investment products based on factors like risk, returns, and investment goals.\n",
        "The key components of this setup include:\n",
        "\n",
        "**1.Data Dictionary Construction:**\n",
        "\n",
        "A comprehensive dictionary named 'data' is formulated, encompassing multiple aspects of investment options. These include the financial product's name, time horizon, investment goal, minimum and maximum risk levels, expected returns, and detailed descriptions.\n",
        "\n",
        "**2. Pandas DataFrame Generation:**\n",
        "\n",
        "The 'data' dictionary is used to generate a structured pandas DataFrame named 'table.' This DataFrame is organized with columns representing different aspects of investment options and rows corresponding to each investment product."
      ]
    },
    {
      "cell_type": "code",
      "execution_count": null,
      "metadata": {
        "id": "wXYq9Sboe6By"
      },
      "outputs": [],
      "source": [
        "# Create a dictionary with the table data\n",
        "data = {\n",
        "  \"financial product\": [\"Cash Deposit\", \"GIC\", \"Bond Index ETF\", \"Market Index ETF\", \"Monthly Income ETF\"],\n",
        "  \"time_horizon\": [\"a\", \"b/c\", \"b\", \"c\", \"b/c\"],\n",
        "  \"goal\": [\"a/b/c\", \"a/b\", \"a/b\", \"a/b\", \"c\"],\n",
        "  \"min_risk\": [0, 0, 0, 22, 22],\n",
        "  \"max_risk\": [47, 22, 18, 47, 47],\n",
        "  \"return\": [1.5, 3.3, 1.94, 7.59, 7.31],\n",
        "  \"description\": [\"A cash deposit is a type of investment that involves putting money into a bank account or other financial institution that pays interest and is insured by the Federal Deposit Insurance Corporation (FDIC). Cash deposits are usually short-term investments that offer low returns but also low risk and high liquidity. Some examples of cash deposits are savings accounts, certificates of deposit (CDs), and money market accounts. Cash deposits can be useful for saving money for emergencies, short-term goals, or as a part of a diversified portfolio\",\"A GIC is a guaranteed investment certificate that is sold by Canadian financial institutions. When you buy a GIC, you deposit money in the bank for a fixed length of time, usually from a few months to a few years, and receive interest on that money and the principal when the investment matures. A GIC is a low-risk investment that guarantees 100% of your original investment, regardless of market fluctuations. However, a GIC also offers low returns compared to other investments, and you may have to pay a penalty if you withdraw your money before the maturity date\",\"A bond index ETF is an exchange-traded fund that invests in a basket of bonds that track the performance of a bond index. Bond index ETFs can help reduce the volatility and drawdowns of your portfolio, especially during bear markets or crashes, as bonds tend to have a negative or low correlation with stocks\",\"A market index ETF is an exchange-traded fund that invests in a basket of stocks that track the performance of a market index, such as the S&P 500, the Nasdaq 100, or the TSX Composite.\",\"A monthly income ETF can provide you with a steady and predictable source of income, which can be useful for budgeting, retirement planning, or reinvesting. A monthly income ETF can invest in a variety of income-generating assets, such as stocks, bonds, preferred shares, real estate investment trusts (REITs), or master limited partnerships (MLPs)\"]\n",
        "}\n",
        "\n",
        "# Create a pandas dataframe from the dictionary and assign it to a variable called table\n",
        "table = pd.DataFrame(data)"
      ]
    },
    {
      "cell_type": "markdown",
      "metadata": {
        "id": "jxVRMgxbiIM2"
      },
      "source": [
        "# Store questions on time horizon & goal"
      ]
    },
    {
      "cell_type": "markdown",
      "metadata": {
        "id": "5KXWT_nzAKKZ"
      },
      "source": [
        "In this code section, two variables are taken to make personalised investment recommendations-\n",
        "\n",
        "**1. Time Horizon:**\n",
        "\n",
        "The questions are asked to gauge the anticipated duration for which the individual plans to keep their investment. This could include various timeframes, such as less than a year, 1-5 years, or 5+ years. Three distinct options are provided to capture a wide spectrum of investment time horizons.\n",
        "\n",
        "**2. Investment Goal Question and Options:**\n",
        "\n",
        "This variable seeks to understand the primary objective behind the investment. This could encompass various aspirations like general savings, retirement planning, or generating regular income. Three comprehensive options are offered to reflect different investment goals and motivations."
      ]
    },
    {
      "cell_type": "code",
      "execution_count": null,
      "metadata": {
        "id": "GSRU0SGjiWWU"
      },
      "outputs": [],
      "source": [
        "# Define the questions and the options\n",
        "question_time = \"What's the time horizon of your investment?\"\n",
        "options_time = [\"Less than 1 year\", \"1-5 years\", \"5+ years\"]\n",
        "\n",
        "question_goal = \"What is your investment goal?\"\n",
        "options_goal = [\"General savings\", \"Retirement\", \"Income generation\"]\n",
        "\n",
        "# Initialize the variables\n",
        "time_horizon = None\n",
        "goal = None"
      ]
    },
    {
      "cell_type": "markdown",
      "metadata": {
        "id": "9UQW2L5dea11"
      },
      "source": [
        "# Function to provide information about Banking"
      ]
    },
    {
      "cell_type": "markdown",
      "metadata": {
        "id": "ul1lj0Q0BQ61"
      },
      "source": [
        "This code section encapsulates an educational function designed to enlighten users about various aspects of banking. This function serves as a valuable resource for enhancing financial literacy. Key points regarding this educational function are as follows:\n",
        "\n",
        "**1. Function Overview:**\n",
        "\n",
        "The function banking_logic() initiates an informative dialogue to educate users about different types of bank accounts, namely Checking and Savings accounts.\n",
        "Users are prompted to make a choice regarding the type of account they wish to learn about: Checking, Savings, or Both. Users are guided to an Pennydrops' courses for deeper insights.\n",
        "\n",
        "**2. Error Handling:**\n",
        "\n",
        "The function is equipped with an error-checking mechanism to address an invalid choice and guide users accordingly."
      ]
    },
    {
      "cell_type": "code",
      "execution_count": null,
      "metadata": {
        "id": "_1JTvl9zeWjs"
      },
      "outputs": [],
      "source": [
        "\n",
        "def banking_logic():\n",
        "    print(\"What type of account would you like to know about?\")\n",
        "    print(\"1. Checking\")\n",
        "    print(\"2. Savings\")\n",
        "    print(\"3. Both\")\n",
        "\n",
        "    choice = input(\"Enter the corresponding number: \")\n",
        "\n",
        "    if choice == \"1\":\n",
        "        print(\"A checking account is a type of bank account that allows you to deposit and withdraw money using checks, debit cards, or online transfers.\")\n",
        "        print(\"- You can access your money easily and conveniently.\")\n",
        "        print(\"- You can pay your bills online or by phone.\")\n",
        "        print(\"- You can avoid carrying cash or paying fees for money orders.\")\n",
        "        print('''- You can learn more about this topic here: https://anywhere.pennydrops.org/courses/lesson-2-banking-101''')\n",
        "    elif choice == \"2\":\n",
        "        print(\"A savings account is a type of bank account that pays you interest on the money you deposit. It is a good way to save money for your goals or emergencies.\")\n",
        "        print(\"- You can earn interest on your money and grow your savings.\")\n",
        "        print(\"- You can save money for your short-term or long-term goals.\")\n",
        "        print(\"- You can have an emergency fund for unexpected expenses.\")\n",
        "        print('''- You can learn more about this topic here: https://anywhere.pennydrops.org/courses/lesson-2-banking-101''')\n",
        "    elif choice == \"3\":\n",
        "        print(\"You can use your checking account for daily transactions and your savings account for saving money.\")\n",
        "        print(\"- You can transfer money between your accounts easily and quickly.\")\n",
        "        print(\"- You can have more control over your finances and budget.\")\n",
        "        print('''- You can learn more about this topic here: https://anywhere.pennydrops.org/courses/lesson-2-banking-101''')\n",
        "    else:\n",
        "        print(\"Invalid choice.\")\n",
        "\n"
      ]
    },
    {
      "cell_type": "markdown",
      "metadata": {
        "id": "yBg-bz5zedr1"
      },
      "source": [
        "# Function to provide information about credit options"
      ]
    },
    {
      "cell_type": "markdown",
      "metadata": {
        "id": "G38hQcMvCG9L"
      },
      "source": [
        "The provided code segment encapsulates a function aimed at delivering comprehensive insights into various credit options, specifically focusing on Mortgage and Credit Card accounts.\n",
        "\n",
        "**1. Function Overview:**\n",
        "\n",
        "The function credit_logic() initiates an interactive information-sharing session, guiding users through essential knowledge about Mortgage and Credit Card accounts. Users are prompted to select the type of account they wish to learn about: Mortgage, Credit Card, or Both. Users are guided to an Pennydrops' courses for deeper insights.\n",
        "\n",
        "**2. Error Handling:**\n",
        "\n",
        "The function incorporates an error-checking mechanism to address an invalid choice and provide guidance accordingly.\n"
      ]
    },
    {
      "cell_type": "code",
      "execution_count": null,
      "metadata": {
        "id": "ybsqDcjkeWfv"
      },
      "outputs": [],
      "source": [
        "def credit_logic():\n",
        "    print(\"What type of account would you like to know about?\")\n",
        "    print(\"1. Mortgage\")\n",
        "    print(\"2. Credit Card\")\n",
        "    print(\"3. Both\")\n",
        "\n",
        "    choice = input(\"Enter the corresponding number: \")\n",
        "\n",
        "    if choice == \"1\":\n",
        "        print(\"A mortgage is a type of loan that's used to purchase or maintain real estate, using the property as collateral for repayment.\")\n",
        "        print(\"- You can buy a home or land without paying the full price upfront.\")\n",
        "        print(\"- You can build equity and wealth as you pay off your loan and your property value increases.\")\n",
        "        print(\"- You can enjoy tax deductions on the interest and property taxes you pay.\")\n",
        "        print('''- You can learn more about this topic here: https://anywhere.pennydrops.org/courses/lesson-4-credit''')\n",
        "    elif choice == \"2\":\n",
        "        print(\"A credit card is a plastic card that allows you to buy things now and pay for them later. You can use it online, in stores, or anywhere that accepts credit cards. You have to pay back the money you borrow, plus interest and fees, by a certain date.\")\n",
        "        print(\"- You can build your credit history and improve your credit score.\")\n",
        "        print(\"- You can enjoy rewards, cash back, or other perks.\")\n",
        "        print(\"- You can have more flexibility and convenience when shopping.\")\n",
        "        print('''- You can learn more about this topic here: https://anywhere.pennydrops.org/courses/lesson-4-credit''')\n",
        "    elif choice == \"3\":\n",
        "        print(\"A mortgage is a type of loan that you can use to buy or maintain a property, such as a house or a land. A credit card is a type of revolving credit that you can use to buy anything, such as a TV or a laptop. Both have advantages and disadvantages, depending on your needs and goals.\")\n",
        "        print('''- You can learn more about this topic here: https://anywhere.pennydrops.org/courses/lesson-4-credit''')\n",
        "    else:\n",
        "        print(\"Invalid choice.\")\n"
      ]
    },
    {
      "cell_type": "markdown",
      "metadata": {
        "id": "6dwnPVU2gf4h"
      },
      "source": [
        "# Function to get user answers for risk tolerance score"
      ]
    },
    {
      "cell_type": "markdown",
      "metadata": {
        "id": "oj78KvFADuTv"
      },
      "source": [
        "This code section outlines the function to ask user inout for calculating their risk tolerance score. Key characteristics of this interactive function are:\n",
        "\n",
        "**1. User-Prompted Question and Options:**\n",
        "\n",
        "The function prompts users with a question relevant to the context and topic.\n",
        "The available answer options are presented, enabling users to select an appropriate choice.\n",
        "\n",
        "**2. Input Validation and Letter Format:**\n",
        "\n",
        "Users are guided to input their response as a letter, corresponding to the provided options (e.g., 'a', 'b', 'c').\n",
        "The function generates valid letter answers ('a', 'b', 'c', ...) based on the number of options."
      ]
    },
    {
      "cell_type": "code",
      "execution_count": null,
      "metadata": {
        "id": "acLzlGCUgqMX"
      },
      "outputs": [],
      "source": [
        "# Function to prompt user and store answers\n",
        "def get_user_answer(question, options):\n",
        "    print(question)\n",
        "    for option in options:\n",
        "        print(option)\n",
        " # Generate valid letter answers (a, b, c, ...)\n",
        "    valid_answers = [chr(97 + i) for i in range(len(options))]\n",
        "\n",
        "    while True:\n",
        "        user_answer = input(\"\\nEnter your letter answer: \").strip().lower()\n",
        "\n",
        "        if user_answer in valid_answers:\n",
        "            print(\" \")\n",
        "            return user_answer.upper()\n",
        "        else:\n",
        "            print(\"Invalid input. Please enter a valid letter answer.\")"
      ]
    },
    {
      "cell_type": "markdown",
      "metadata": {
        "id": "m1w9UAOa7TMp"
      },
      "source": [
        "# Function to print risk tolerance score and level"
      ]
    },
    {
      "cell_type": "code",
      "execution_count": null,
      "metadata": {
        "id": "ZsV0LxBE7vLx"
      },
      "outputs": [],
      "source": [
        "risk_tolerance_score = 0\n",
        "\n",
        "def scenario_3():\n",
        "  answers_list = []\n",
        "  # Loop through each question and append user answers to answer list\n",
        "  for i in range(len(questions)):\n",
        "    user_answer = get_user_answer(questions[i], answer_options[i])\n",
        "    answers_list.append({\"Question\": questions[i], \"Answer\": user_answer,\\\n",
        "                         \"Score\": scoring.get(str(i + 1)).get(user_answer, 0)})\n",
        "    # Create a DataFrame from the list of dictionaries\n",
        "  answers = pd.DataFrame(answers_list)\n",
        "\n",
        "    # Calculate risk tolerance score\n",
        "  risk_tolerance_score = answers['Score'].sum()\n",
        "\n",
        "    # Display the answers DataFrame and the risk tolerance score\n",
        "  print(\"\\nUser Answers:\\n\", answers)\n",
        "  print(\"\\nRisk Tolerance Score:\", risk_tolerance_score)\n",
        "  print(\" \")\n",
        "\n",
        "    # Find what risk tolerance group the user belongs to\n",
        "  risk_tolerance_level = \"Your risk tolerance level is:\"\n",
        "  if risk_tolerance_score >= 33 and risk_tolerance_score <= 47:\n",
        "    print(risk_tolerance_level, \"High tolerance for risk\")\n",
        "  elif risk_tolerance_score >= 29 and risk_tolerance_score <= 32:\n",
        "    print(risk_tolerance_level, \"Above-average tolerance for risk\")\n",
        "  elif risk_tolerance_score >= 23 and risk_tolerance_score <= 28:\n",
        "    print(risk_tolerance_level, \"Average/moderate tolerance for risk\")\n",
        "  elif risk_tolerance_score >= 19 and risk_tolerance_score <= 22:\n",
        "    print(risk_tolerance_level, \"Below-average tolerance for risk\")\n",
        "  elif risk_tolerance_score >= 0 and risk_tolerance_score <= 18:\n",
        "    print(risk_tolerance_level, \"Low tolerance for risk\")\n",
        "  else:\n",
        "    print(\"Invalid score\")"
      ]
    },
    {
      "cell_type": "markdown",
      "metadata": {
        "id": "UV8aECwVj6-R"
      },
      "source": [
        "# Function to ask questions goal & time horizon"
      ]
    },
    {
      "cell_type": "markdown",
      "metadata": {
        "id": "VycwXhngE0IY"
      },
      "source": [
        "This code outlines the functionality of the q_goal() function, which facilitates user input and response processing related to investment goals and time horizons. Here are the key features of this function:\n",
        "\n",
        "**1. Customizable Question and Options:**\n",
        "\n",
        "The function takes two parameters, allowing customization of the question and available answer options based on the context.The user is prompted with the specified question, and the provided options are displayed sequentially.\n",
        "\n",
        "**2. Global Variable Manipulation:**\n",
        "\n",
        "The global keyword is used to access and update the global variable goal.\n",
        "The user's choice is converted into the appropriate goal code ('a', 'b', 'c') and stored in the global variable.\n",
        "\n",
        "**3. chr() Manipulation**\n",
        "\n",
        "The chr() function converts a number to a character based on the ASCII code. The ASCII code for “a” is 97, so chr(97) returns “a”. Similarly, chr(98) returns “b” and chr(99) returns “c”. The i variable is the index of the option in the list, starting from 0. So, to get the corresponding letter, we add 97 to i and use the chr() function. For example, if i is 0, then chr(i+97) is “a”. If i is 1, then chr(i+97) is “b”. And so on."
      ]
    },
    {
      "cell_type": "code",
      "execution_count": null,
      "metadata": {
        "id": "gMIebGskBf2X"
      },
      "outputs": [],
      "source": [
        "# Define the function with two parameters: question and options\n",
        "def q_goal(question, options):\n",
        "    # Use the global keyword to access the global variable goal\n",
        "    global goal\n",
        "    # Print the question\n",
        "    print(question)\n",
        "    # Loop through the options and print them with letters\n",
        "    for i, option in enumerate(options):\n",
        "        print(f\"{chr(i+97)}. {option}\")\n",
        "    # Initialize a variable to store the answer\n",
        "    answer = None\n",
        "    # Use a while loop to repeat until the answer is valid\n",
        "    while answer not in [\"a\", \"b\", \"c\"]:\n",
        "        # Get the user input as a lowercase string\n",
        "        answer = input(\"Enter your choice: \").lower()\n",
        "        # Check if the answer is valid\n",
        "        if answer in [\"a\", \"b\", \"c\"]:\n",
        "            # Update the global variable goal based on the answer\n",
        "            goal = answer\n",
        "            # Return the answer as a string\n",
        "            return options[ord(answer)-97]\n",
        "        else:\n",
        "            # Print a message to inform the user\n",
        "            print(\"Your response is not an option\")\n",
        "\n"
      ]
    },
    {
      "cell_type": "code",
      "execution_count": null,
      "metadata": {
        "id": "Ze_Il8toCwDq"
      },
      "outputs": [],
      "source": [
        "# Define the function with two parameters: question and options\n",
        "def q_horizon(question, options):\n",
        "    # Use the global keyword to access the global variable goal\n",
        "    global time_horizon\n",
        "    # Print the question\n",
        "    print(question)\n",
        "    # Loop through the options and print them with letters\n",
        "    for i, option in enumerate(options):\n",
        "        print(f\"{chr(i+97)}. {option}\")\n",
        "    # Initialize a variable to store the answer\n",
        "    answer = None\n",
        "    # Use a while loop to repeat until the answer is valid\n",
        "    while answer not in [\"a\", \"b\", \"c\"]:\n",
        "        # Get the user input as a lowercase string\n",
        "        answer = input(\"Enter your choice: \").lower()\n",
        "        # Check if the answer is valid\n",
        "        if answer in [\"a\", \"b\", \"c\"]:\n",
        "            # Update the global variable goal based on the answer\n",
        "            time_horizon = answer\n",
        "            # Return the answer as a string\n",
        "            return options[ord(answer)-97]\n",
        "        else:\n",
        "            # Print a message to inform the user\n",
        "            print(\"Your response is not an option\")\n"
      ]
    },
    {
      "cell_type": "markdown",
      "metadata": {
        "id": "og2gODnxxYG4"
      },
      "source": [
        " # Function to filter for investment recommendation"
      ]
    },
    {
      "cell_type": "markdown",
      "metadata": {
        "id": "NBkDtCcyFsma"
      },
      "source": [
        "This code section outlines the functionality of the recommend() function, which filters and recommends investment options based on specified criteria. Here are the key features of this function:\n",
        "\n",
        "**1. Filtering Criteria:**\n",
        "\n",
        "The function filters the investment options table based on the user's time horizon, investment goal, and risk tolerance score. It employs the apply method to perform a substring search for time horizon and goal within their respective columns.Filters out rows where the risk tolerance score falls outside the min-max risk range.\n",
        "\n",
        "**2. Handling Empty Results:**\n",
        "\n",
        "If the filtered results are empty, the function defaults to the first row of the original table for recommendations.\n",
        "Otherwise, it selects recommendations from the filtered table.\n",
        "\n",
        "**3. Recommendation Details:**\n",
        "\n",
        "The function extracts the recommended financial product, its return rate, and description from the selected row(s).\n",
        "It prepares and prints a personalized recommendation message for the user.\n",
        "The message includes information about the recommended investment, its average return rate, and key features.\n",
        "\n",
        "**4. Graph Visualization:**\n",
        "\n",
        "The function hints at graphing by mentioning the value of an investment over time using a specific example scenario."
      ]
    },
    {
      "cell_type": "code",
      "execution_count": null,
      "metadata": {
        "id": "e0mkDRaKxbtS"
      },
      "outputs": [],
      "source": [
        "def recommend():\n",
        "\n",
        "    # Filter the table by the order of time_horizon, goal, and risk level\n",
        "    # Use apply method to apply str.contains to each element of the list columns\n",
        "    filtered_table = table[(table[\"time_horizon\"].apply(lambda x: time_horizon in x)) & (table[\"goal\"].apply(lambda x: goal in x)) & (table[\"min_risk\"] <= risk_tolerance_score) & (table[\"max_risk\"] >= risk_tolerance_score)]\n",
        "\n",
        "    global rec_return\n",
        "\n",
        "    # Check if the filtered_table is empty\n",
        "    if filtered_table.empty:\n",
        "        # Set the variables to the first row of the table\n",
        "        recommended = table[\"financial product\"].values[0]\n",
        "        rec_return = table[\"return\"].values[0]\n",
        "        rec_desc = table[\"description\"].values[0]\n",
        "    else:\n",
        "        # Set the variables to the filtered_table\n",
        "        recommended = filtered_table[\"financial product\"].values[0]\n",
        "        rec_return = filtered_table[\"return\"].values[0]\n",
        "        rec_desc = filtered_table[\"description\"].values[0]\n",
        "\n",
        "    # Print the message\n",
        "    print(f\"\\nWe recommend you to invest in {recommended} which has an average return rate of {rec_return}%.\\nHere are some features about {recommended}: {rec_desc}.\\nHere is a graph showing you the value of your investment if you invested $10,000 dollar today for 10 years\")\n"
      ]
    },
    {
      "cell_type": "markdown",
      "metadata": {
        "id": "F-OuWGFmxoFU"
      },
      "source": [
        "# Function to graph"
      ]
    },
    {
      "cell_type": "markdown",
      "metadata": {
        "id": "kuSQ33IOGagt"
      },
      "source": [
        "The following code highlights the functionality of the graph() function. Here are the key features of this function, presented in bullet points:\n",
        "\n",
        "**1. Graph Generation:**\n",
        "\n",
        "The function generates a line graph to visualize the growth of a hypothetical investment over time.\n",
        "It calculates the investment value at each month using the compound interest formula.\n",
        "Utilizes the plt.plot function to create the plot with months on the x-axis and investment values on the y-axis.\n",
        "\n",
        "**2. Plot Customization:**\n",
        "\n",
        "Labels the x-axis as \"Year\" and the y-axis as \"Investment Value\" using plt.xlabel and plt.ylabel. Assigns a title to the plot that includes the compounded growth rate of the investment. Applies gridlines to the plot to aid visualization.\n",
        "\n",
        "**3. Annotations and Limits:**\n",
        "\n",
        "Adds an annotation to the graph indicating the end value of the investment using plt.annotate.\n",
        "\n",
        "**4. Formatting and Display:**\n",
        "\n",
        "Defines a custom function, format_dollars, to format y-axis labels as dollar amounts.\n",
        "Displays the graph using plt.show()."
      ]
    },
    {
      "cell_type": "code",
      "execution_count": null,
      "metadata": {
        "id": "0bwpUmcMxqib"
      },
      "outputs": [],
      "source": [
        "def graph():\n",
        "\n",
        "    # Create a list of months from 0 to 120\n",
        "    months = list(range(121))\n",
        "\n",
        "    # Create a list of portfolio values using the formula\n",
        "    values = [10000 * (1 + rec_return / 100) ** (month / 12) for month in months]\n",
        "\n",
        "    # Plot the months and values lists using plt.plot\n",
        "    plt.plot(months, values)\n",
        "\n",
        "    # Add labels and title to the plot using plt.xlabel, plt.ylabel and plt.title\n",
        "    plt.xlabel(\"Year\")\n",
        "    plt.ylabel(\"Investment Value\")\n",
        "    plt.title(f\"$10K investment over 10 Years with {rec_return}% Compounded Growth Rate\")\n",
        "\n",
        "    # Smooth out the curve using plt.grid\n",
        "    plt.grid()\n",
        "\n",
        "    # Create a variable called end_value and assign it the last element of the values list\n",
        "    end_value = values[-1]\n",
        "\n",
        "    # Use plt.annotate to add a text and an arrow pointing to the end value on the graph\n",
        "    plt.annotate(f\"End value: ${np.round(end_value, 2)}\", xy=(120, end_value), xytext=(80, end_value + 5000), arrowprops=dict(arrowstyle=\"->\"))\n",
        "\n",
        "    # Use plt.xlim to set the x-axis limits from 0 to 120\n",
        "    plt.xlim(0, 120)\n",
        "\n",
        "    # Use plt.xticks to set the x-axis ticks and labels from 0 to 10 with a step of 1\n",
        "    plt.xticks(np.arange(0, 121, 12), np.arange(0, 11))\n",
        "\n",
        "    # Use plt.ylim to set the y-axis limits from 10000 to end_value + 10000\n",
        "    plt.ylim(10000, end_value + 10000)\n",
        "\n",
        "    # Define a custom function that adds a dollar sign and a comma to the numbers\n",
        "    def format_dollars(x, pos):\n",
        "        return f\"${x:,.0f}\"\n",
        "\n",
        "    # Show the plot using plt.show\n",
        "    plt.show()\n",
        "\n"
      ]
    },
    {
      "cell_type": "markdown",
      "metadata": {
        "id": "J-cN8NdJ1gLc"
      },
      "source": [
        "# Function to group functions in scenario 4"
      ]
    },
    {
      "cell_type": "markdown",
      "metadata": {
        "id": "1Qv0hKdTHarf"
      },
      "source": [
        "This code outlines the key aspects of the scenario_4() function, which serves as the main function for guiding users through the process of investment decision-making and visualization. Here are the notable features:\n",
        "\n",
        "**1. User Interaction:**\n",
        "\n",
        "Prints an explanatory line to communicate the function's purpose and guide users through the process. Prompts users to answer two critical questions: their investment time horizon and their investment goal.\n",
        "\n",
        "**2. Time Horizon and Goal Acquisition:**\n",
        "\n",
        "Calls the q_horizon() function to capture user input for the investment time horizon.Calls the q_goal() function to obtain user input for the desired investment goal.\n",
        "\n",
        "**3. Recommendation Generation:**\n",
        "\n",
        "Invokes the recommend() function to generate personalized investment recommendations based on the user's inputs.Utilizes user-provided time horizon, investment goal, and risk tolerance to filter and identify suitable investment options.\n",
        "\n",
        "**4. Investment Visualization:**\n",
        "\n",
        "Calls the graph() function to generate a graphical representation of the potential growth of the recommended investment over a 10-year period.\n",
        "Provides users with a visual depiction of the investment's growth trajectory and potential outcomes.\n",
        "\n"
      ]
    },
    {
      "cell_type": "code",
      "execution_count": null,
      "metadata": {
        "id": "fICoSEID1lWL"
      },
      "outputs": [],
      "source": [
        "def scenario_4():\n",
        "\n",
        "    # Print the line explaining the purpose of the function\n",
        "    print(\"\\nPennyBot uses your investment time horizon and investment goals to find the options that's most suitable for you.\\nPlease answer the following 2 questions.\\n\")\n",
        "\n",
        "    # Call the functions to get the user input for time_horizon and goal\n",
        "    q_horizon(question_time, options_time)\n",
        "    \"\\n\"\n",
        "    q_goal(question_goal, options_goal)\n",
        "\n",
        "    # Call the function to recommend a product based on the user input\n",
        "    recommend()\n",
        "\n",
        "    # Call the function to plot a graph of the investment value\n",
        "    graph()\n",
        "\n",
        "    # Print disclaimer\n",
        "    print(\"Disclaimer: The information provided in this program is for general guidance and educational purposes only. It does not constitute professional financial or investment advice. We do not guarantee any results and we are not liable for any losses or damages arising from using this information. Always do your own research and seek professional advice before making any financial decisions. Investing involves risks and you may lose money.\")\n"
      ]
    },
    {
      "cell_type": "markdown",
      "metadata": {
        "id": "0maTo81idmlw"
      },
      "source": [
        "# Main Function that loops all functions"
      ]
    },
    {
      "cell_type": "markdown",
      "metadata": {
        "id": "_AGkNB6zCzve"
      },
      "source": [
        "This code section defines a central function, main(), designed to create an engaging and user-driven learning experience through PennyBot's financial literacy lessons. Key features of this interactive main function are highlighted below:\n",
        "\n",
        "**1. Purpose and Introduction:**\n",
        "\n",
        "Upon execution, the function welcomes users with a personalized introduction, portraying PennyBot as an informative companion specializing in financial literacy.\n",
        "Users are introduced to PennyBot's categories of knowledge dissemination: Banking, Credit, and Investment.\n",
        "\n",
        "**2. User-Driven Topic Selection:**\n",
        "\n",
        "The function prompts users to express their area of interest by selecting from the provided categories (Banking, Credit, Investment).\n",
        "User input is validated to ensure accurate selection.\n",
        "\n",
        "**3. Interactive Knowledge Sharing:**\n",
        "\n",
        "Based on the user's selection, the function seamlessly connects with dedicated logic functions (banking_logic(), credit_logic(), investment_logic()) to provide detailed insights into the chosen financial domain.\n",
        "Each logic function engages users with comprehensive explanations and valuable insights.\n",
        "\n",
        "**4. Continuity and Exploration:**\n",
        "\n",
        "After knowledge sharing for the selected topic, users are given the option to explore additional topics. The function queries users about their interest in learning about another topic.\n",
        "\n",
        "**5. Flexible Termination:**\n",
        "\n",
        "If the user's response indicates no further interest in exploring topics (\"N\"), the function gracefully concludes the learning session, expressing gratitude for the user's engagement and bidding farewell.\n",
        "\n",
        "\n"
      ]
    },
    {
      "cell_type": "code",
      "execution_count": null,
      "metadata": {
        "id": "5L8zOzTfdvi_"
      },
      "outputs": [],
      "source": [
        "def main():\n",
        "    Y = {'y', 'yes', 'yeah'}\n",
        "    N = {'n', 'no'}\n",
        "\n",
        "    while True:\n",
        "        print(\"Hi, I am PennyBot. I'm here to share knowledge about financial literacy.\")\n",
        "        user_name = input(\"What is your name? \")\n",
        "\n",
        "        print(\"Category:\")\n",
        "        print(\"1. Banking\")\n",
        "        print(\"2. Credit\")\n",
        "        print(\"3. Investment\")\n",
        "        choice = input(f\"Hi {user_name}, which topic are you interested in? (Enter the corresponding number): \")\n",
        "\n",
        "        if choice == \"1\":\n",
        "            banking_logic()\n",
        "        elif choice == \"2\":\n",
        "            credit_logic()\n",
        "        elif choice == \"3\":\n",
        "            scenario_3()\n",
        "            scenario_4()\n",
        "        else:\n",
        "            print(\"Invalid choice.\")\n",
        "\n",
        "        more_topics = input(\"Would you like to know more about another topic? (Y/N): \")\n",
        "        if more_topics.lower() in Y:\n",
        "            continue\n",
        "        elif more_topics.lower() in N:\n",
        "            print(f\"Thank you for using PennyBot, {user_name}. Goodbye!\")\n",
        "            break\n",
        "        else:\n",
        "            print(\"Invalid input. Please enter 'Y' or 'N'\")\n"
      ]
    },
    {
      "cell_type": "markdown",
      "metadata": {
        "id": "kvpCKuLMd87K"
      },
      "source": [
        "# SCENARIO 1 & 2"
      ]
    },
    {
      "cell_type": "markdown",
      "metadata": {
        "id": "SAHiBkdkI4A9"
      },
      "source": [
        "Scenario 1 and 2 is designed to educate the users with financial knowledge. Upon selection of 'Investment' category it will move on to the rest of the scenarios. The following steps will take place for this section:\n",
        "1. PennyBot introduction and purpose displayed.\n",
        "2. Categories displayed: Banking, Credit, Investment.\n",
        "3. User selects a category (1, 2, or 3).\n",
        "4. Corresponding logic function is called based on user's choice.\n",
        "5. Detailed information about selected category presented.\n",
        "6. User prompted if they want to learn about another topic (Y/N).\n",
        "7. If yes, loop back to step 3; if no, proceed to step 8.\n",
        "8. PennyBot thanks user and conversation ends.\n"
      ]
    },
    {
      "cell_type": "code",
      "execution_count": null,
      "metadata": {
        "id": "vvBR20f1d_xb"
      },
      "outputs": [],
      "source": [
        "main()"
      ]
    },
    {
      "cell_type": "markdown",
      "metadata": {
        "id": "7qEPOaUJhODG"
      },
      "source": [
        "# SCENARIO 3"
      ]
    },
    {
      "cell_type": "markdown",
      "metadata": {
        "id": "bJznRO-4Qo8b"
      },
      "source": [
        "When the user selects Option 3: Investment, PennyBot will initiate a questionnaire that aims to find the user's risk tolerance level. This questionnaire was developed by Dr. John Grable & Dr. Ruth Lytton for the Financial Services Review (1999). There are 13 questions in total and each answer carries a different value. In the end, the risk tolerance is calculated by summing the user's answers (Grable & Lytton, 1999). The following are the steps of the scenario:\n",
        "1. Loop through each question and present them to the user.\n",
        "2. Get the user's answers and calculate their scores based on predefined scoring.\n",
        "3. Create a DataFrame to store each question, user answer, and score.\n",
        "4. Calculate the total risk tolerance score by summing up the scores.\n",
        "5. Display the user's answers along with the calculated risk tolerance score.\n",
        "6. Determine the risk tolerance level based on the calculated score.\n",
        "7. Display the user's risk tolerance level as one of the predefined categories."
      ]
    },
    {
      "cell_type": "code",
      "execution_count": null,
      "metadata": {
        "id": "TYLvLY68mRCC"
      },
      "outputs": [],
      "source": [
        "scenario_3()"
      ]
    },
    {
      "cell_type": "markdown",
      "metadata": {
        "id": "tVoyFCt-kJzb"
      },
      "source": [
        "# SCENARIO 4\n"
      ]
    },
    {
      "cell_type": "markdown",
      "metadata": {
        "id": "o_-Sf877KbvM"
      },
      "source": [
        "Scenario 4 is built to make personalised recommendation based on calculated risk tolerance score, time horizon as well as goal of investment. The following steps will take place:\n",
        "1. Print an introductory message explaining PennyBot's purpose and the process.\n",
        "2. Prompt the user to answer two questions: time horizon and investment goal.\n",
        "3. Display the available options for time horizon and wait for the user's input.\n",
        "4. Store the user's selected time horizon.\n",
        "5. Display the available options for investment goals and wait for the user's input.\n",
        "6. Store the user's selected investment goal.\n",
        "7. Call the recommend() function to suggest an investment product based on user input.\n",
        "8. Call the graph() function to generate and display a graph of the investment value over time.\n",
        "9. **Print** a disclaimer message about the provided information and its limitations.\n"
      ]
    },
    {
      "cell_type": "code",
      "execution_count": null,
      "metadata": {
        "id": "2R7etCef0I63"
      },
      "outputs": [],
      "source": [
        "scenario_4()"
      ]
    },
    {
      "cell_type": "markdown",
      "metadata": {
        "id": "T8xjchI5aXn5"
      },
      "source": [
        "# References"
      ]
    },
    {
      "cell_type": "markdown",
      "metadata": {
        "id": "Nuh62WSfifVK"
      },
      "source": [
        "BlackRock. (n.d.). iShares Canadian Universe Bond Index ETF. Retrieved August 12, 2023, from https://www.blackrock.com/ca/investors/en/products/239493/ishares-canadian-universe-bond-index-etf"
      ]
    },
    {
      "cell_type": "markdown",
      "metadata": {
        "id": "unwmJsURinFI"
      },
      "source": [
        "\n",
        "BlackRock. (n.d.). iShares S&P/TSX 60 Index ETF. Retrieved August 12, 2023, from https://www.blackrock.com/ca/investors/en/products/239832/ishares-sptsx-60-index-etf"
      ]
    },
    {
      "cell_type": "markdown",
      "metadata": {
        "id": "7e3WA4qhitXB"
      },
      "source": [
        "BlackRock. (n.d.). iShares Canadian Financial Monthly Income ETF. Retrieved August 12, 2023, from https://www.blackrock.com/ca/investors/en/products/239476/ishares-canadian-financial-monthly-income-etf"
      ]
    },
    {
      "cell_type": "markdown",
      "metadata": {
        "id": "zD7IrCBAiWCX"
      },
      "source": [
        "Fortune. (2021, October 28). What is time horizon? Fortune. https://fortune.com/recommends/investing/what-is-time-horizon/"
      ]
    },
    {
      "cell_type": "markdown",
      "metadata": {
        "id": "N5PkNVVViT3I"
      },
      "source": [
        "Grable, J. E., & Lytton, R. H. (1999). Financial risk tolerance revisited: The development of a risk assessment instrument. Financial Services Review, 8, 163 – 181."
      ]
    }
  ],
  "metadata": {
    "colab": {
      "collapsed_sections": [
        "ZlzoCejTcIEv",
        "ztHAP1YbWhbS",
        "1qmwx3sHXDJ1",
        "jxVRMgxbiIM2",
        "9UQW2L5dea11",
        "yBg-bz5zedr1",
        "6dwnPVU2gf4h",
        "m1w9UAOa7TMp",
        "og2gODnxxYG4",
        "F-OuWGFmxoFU",
        "J-cN8NdJ1gLc",
        "0maTo81idmlw",
        "kvpCKuLMd87K",
        "7qEPOaUJhODG",
        "tVoyFCt-kJzb"
      ],
      "provenance": []
    },
    "kernelspec": {
      "display_name": "Python 3",
      "name": "python3"
    },
    "language_info": {
      "name": "python"
    }
  },
  "nbformat": 4,
  "nbformat_minor": 0
}